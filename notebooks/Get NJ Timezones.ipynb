{
 "cells": [
  {
   "cell_type": "code",
   "execution_count": null,
   "id": "0",
   "metadata": {},
   "outputs": [],
   "source": [
    "from zipcode_coordinates_tz import census, postal, timezone\n",
    "\n",
    "df_postal_locales = await postal.get_locales()\n",
    "df_postal_locales = df_postal_locales.loc[df_postal_locales.State == \"NJ\"]\n",
    "df_postal_locales = await census.get_coordinates(df_postal_locales)\n",
    "df_postal_locales = timezone.fill_timezones(df_postal_locales, fill_missing=True)\n",
    "\n",
    "df_postal_locales"
   ]
  }
 ],
 "metadata": {
  "kernelspec": {
   "display_name": "zipcode-coordinates-tz-Ydap4ULt-py3.13",
   "language": "python",
   "name": "python3"
  },
  "language_info": {
   "codemirror_mode": {
    "name": "ipython",
    "version": 3
   },
   "file_extension": ".py",
   "mimetype": "text/x-python",
   "name": "python",
   "nbconvert_exporter": "python",
   "pygments_lexer": "ipython3",
   "version": "3.13.0"
  }
 },
 "nbformat": 4,
 "nbformat_minor": 5
}
