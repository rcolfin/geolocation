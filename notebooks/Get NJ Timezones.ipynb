{
 "cells": [
  {
   "cell_type": "code",
   "execution_count": null,
   "id": "8d550a60-2fc6-48de-9faa-b93323bdf1de",
   "metadata": {},
   "outputs": [],
   "source": [
    "from IPython.display import HTML, display\n",
    "\n",
    "from zipcode_coordinates_tz import census, postal, timezone\n",
    "\n",
    "df_postal_locales = await postal.get_locales()\n",
    "df_postal_locales = df_postal_locales.loc[df_postal_locales.State == \"NJ\"]\n",
    "df_postal_locales = await census.get_coordinates(df_postal_locales)\n",
    "df_postal_locales = timezone.fill_timezones(df_postal_locales)\n",
    "\n",
    "display(HTML(df_postal_locales.to_html()))"
   ]
  }
 ],
 "metadata": {
  "kernelspec": {
   "display_name": "zipcode_coordinates_tz-gFDE3wAI-py3.13",
   "language": "python",
   "name": "python3"
  },
  "language_info": {
   "codemirror_mode": {
    "name": "ipython",
    "version": 3
   },
   "file_extension": ".py",
   "mimetype": "text/x-python",
   "name": "python",
   "nbconvert_exporter": "python",
   "pygments_lexer": "ipython3",
   "version": "3.13.0"
  }
 },
 "nbformat": 4,
 "nbformat_minor": 5
}
